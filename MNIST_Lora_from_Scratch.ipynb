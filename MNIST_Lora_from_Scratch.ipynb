{
  "nbformat": 4,
  "nbformat_minor": 0,
  "metadata": {
    "colab": {
      "provenance": [],
      "gpuType": "T4",
      "authorship_tag": "ABX9TyNtsPNsStO2C0afm9WYC6+W",
      "include_colab_link": true
    },
    "kernelspec": {
      "name": "python3",
      "display_name": "Python 3"
    },
    "language_info": {
      "name": "python"
    },
    "accelerator": "GPU"
  },
  "cells": [
    {
      "cell_type": "markdown",
      "metadata": {
        "id": "view-in-github",
        "colab_type": "text"
      },
      "source": [
        "<a href=\"https://colab.research.google.com/github/thebhulawat/DPO/blob/main/MNIST_Lora_from_Scratch.ipynb\" target=\"_parent\"><img src=\"https://colab.research.google.com/assets/colab-badge.svg\" alt=\"Open In Colab\"/></a>"
      ]
    },
    {
      "cell_type": "code",
      "execution_count": null,
      "metadata": {
        "id": "dWlElnTmkBWE"
      },
      "outputs": [],
      "source": [
        "import torch\n",
        "import torchvision.datasets as datasets\n",
        "import torchvision.transforms as transforms\n",
        "import torch.nn as nn\n",
        "import matplotlib.pyplot as plt\n",
        "from tqdm import tqdm"
      ]
    },
    {
      "cell_type": "code",
      "source": [
        "_ = torch.manual_seed(42)"
      ],
      "metadata": {
        "id": "csb7rhovnSyx"
      },
      "execution_count": null,
      "outputs": []
    },
    {
      "cell_type": "code",
      "source": [
        "transform = transforms.Compose([transforms.ToTensor(), transforms.Normalize((0.1307,), (0.3081,))])\n",
        "mnist_trainset = datasets.MNIST(root='./data', train=True, download=True, transform=transform)\n",
        "train_loader = torch.utils.data.DataLoader(mnist_trainset, batch_size = 10, shuffle = True)\n",
        "mnist_testset = datasets.MNIST(root='./data', train = False, download = True, transform = True)\n",
        "test_loader = torch.utils.data.DataLoader(mnist_testset, batch_size = 10, shuffle=True)\n",
        "\n",
        "device = torch.device(\"cuda:0\" if torch.cuda.is_available() else \"cpu\")\n"
      ],
      "metadata": {
        "id": "1IxohgjJnpCD"
      },
      "execution_count": null,
      "outputs": []
    },
    {
      "cell_type": "code",
      "source": [
        "class Net(nn.Module):\n",
        "  def __init__(self, hidden_size_1 = 1000, hidden_size_2 = 2000):\n",
        "    super(Net, self).__init__()\n",
        "    self.linear1 = nn.Linear(28*28, hidden_size_1)\n",
        "    self.linear2 = nn.Linear(hidden_size_1, hidden_size_2)\n",
        "    self.linear3 = nn.Linear(hidden_size_2, 10)\n",
        "    self.relu = nn.ReLU()\n",
        "\n",
        "  def forward(self, img):\n",
        "    x = img.view(-1, 28* 28)\n",
        "    x = self.relu(self.linear1(x))\n",
        "    x = self.relu(self.linear2(x))\n",
        "    x = self.linear3(x)\n",
        "    return x\n",
        "\n",
        "net = Net().to(device)"
      ],
      "metadata": {
        "id": "ZDrMOyHhpTeb"
      },
      "execution_count": null,
      "outputs": []
    },
    {
      "cell_type": "code",
      "source": [
        "def train(train_loader, net, epochs = 5, total_iterations_limit = None):\n",
        "  cross_el = nn.CrossEntropyLoss()\n",
        "  optimizer = torch.optim.Adam(net.parameters(), lr=0.001)\n",
        "  total_iterations = 0\n",
        "  for epoch in range(epochs):\n",
        "    net.train()\n",
        "    loss_sum = 0\n",
        "    num_iterations = 0\n",
        "    data_iterator = tqdm(train_loader, desc = f'Epoch {epoch + 1}')\n",
        "    if total_iterations_limit is not None:\n",
        "      data_iterator.total = total_iterations_limit\n",
        "    for data in data_iterator:\n",
        "      num_iterations += 1\n",
        "      total_iterations += 1\n",
        "      x,y = data\n",
        "      x = x.to(device)\n",
        "      y = y.to(device)\n",
        "      optimizer.zero_grad()\n",
        "      output = net(x.view(-1, 28*28))\n",
        "      loss = cross_el(output, y)\n",
        "      loss_sum += loss.item()\n",
        "      avg_loss = loss_sum / num_iterations\n",
        "      data_iterator.set_postfix(loss = avg_loss)\n",
        "      loss.backward()\n",
        "      optimizer.step()\n",
        "      if total_iterations_limit is not None and total_iterations >= total_iterations_limit:\n",
        "        return\n",
        "\n",
        "train(train_loader, net, epochs = 1)\n"
      ],
      "metadata": {
        "colab": {
          "base_uri": "https://localhost:8080/"
        },
        "id": "bXSZUlJotKHR",
        "outputId": "3f39371a-750c-4e23-e73d-9cdefeb5d5aa"
      },
      "execution_count": null,
      "outputs": [
        {
          "output_type": "stream",
          "name": "stderr",
          "text": [
            "Epoch 1: 100%|██████████| 6000/6000 [00:45<00:00, 132.42it/s, loss=0.238]\n"
          ]
        }
      ]
    },
    {
      "cell_type": "code",
      "source": [
        "original_weights = {}\n",
        "for name, param in net.named_parameters():\n",
        "  original_weights[name]= param.clone().detach()\n",
        "\n",
        "for name, weight in list(original_weights.items())[:10]:  # Show the first 3 weights\n",
        "    print(f\"Layer: {name}, Weight Sample: {weight[:2]}\")"
      ],
      "metadata": {
        "colab": {
          "base_uri": "https://localhost:8080/"
        },
        "id": "it3N_EH1v4gU",
        "outputId": "382794ad-24cf-42d0-ee30-1006b020ad1f"
      },
      "execution_count": null,
      "outputs": [
        {
          "output_type": "stream",
          "name": "stdout",
          "text": [
            "Layer: linear1.weight, Weight Sample: tensor([[0.0465, 0.0313, 0.0355,  ..., 0.0257, 0.0197, 0.0605],\n",
            "        [0.0298, 0.0224, 0.0726,  ..., 0.0790, 0.0660, 0.0112]],\n",
            "       device='cuda:0')\n",
            "Layer: linear1.bias, Weight Sample: tensor([-0.0423, -0.0587], device='cuda:0')\n",
            "Layer: linear2.weight, Weight Sample: tensor([[-0.0276, -0.0600, -0.0258,  ..., -0.0189,  0.0199, -0.0524],\n",
            "        [ 0.0065, -0.0807,  0.0214,  ...,  0.0205, -0.0339,  0.0217]],\n",
            "       device='cuda:0')\n",
            "Layer: linear2.bias, Weight Sample: tensor([-0.0371,  0.0244], device='cuda:0')\n",
            "Layer: linear3.weight, Weight Sample: tensor([[-0.1084,  0.0051, -0.0878,  ..., -0.0393,  0.0234, -0.0323],\n",
            "        [ 0.0933,  0.0217,  0.0515,  ...,  0.0249, -0.0814, -0.0472]],\n",
            "       device='cuda:0')\n",
            "Layer: linear3.bias, Weight Sample: tensor([-0.0137, -0.0638], device='cuda:0')\n"
          ]
        }
      ]
    },
    {
      "cell_type": "code",
      "source": [
        "def test():\n",
        "  correct = 0\n",
        "  total = 0\n",
        "  wrong_counts = [0 for in range(10)]\n",
        "\n",
        "  with torch.no_grad():\n",
        "    for data in tqdm(test_laoder, desc= \"trainin\")"
      ],
      "metadata": {
        "id": "fgaGrhM-xPRb"
      },
      "execution_count": null,
      "outputs": []
    }
  ]
}