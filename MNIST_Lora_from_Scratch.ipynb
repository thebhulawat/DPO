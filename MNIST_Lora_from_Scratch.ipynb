{
  "nbformat": 4,
  "nbformat_minor": 0,
  "metadata": {
    "colab": {
      "provenance": [],
      "gpuType": "T4",
      "authorship_tag": "ABX9TyOb1ZAe1xIpLCYj8uAuyioL",
      "include_colab_link": true
    },
    "kernelspec": {
      "name": "python3",
      "display_name": "Python 3"
    },
    "language_info": {
      "name": "python"
    },
    "accelerator": "GPU"
  },
  "cells": [
    {
      "cell_type": "markdown",
      "metadata": {
        "id": "view-in-github",
        "colab_type": "text"
      },
      "source": [
        "<a href=\"https://colab.research.google.com/github/thebhulawat/DPO/blob/main/MNIST_Lora_from_Scratch.ipynb\" target=\"_parent\"><img src=\"https://colab.research.google.com/assets/colab-badge.svg\" alt=\"Open In Colab\"/></a>"
      ]
    },
    {
      "cell_type": "code",
      "execution_count": 50,
      "metadata": {
        "id": "dWlElnTmkBWE"
      },
      "outputs": [],
      "source": [
        "import torch\n",
        "import torchvision.datasets as datasets\n",
        "import torchvision.transforms as transforms\n",
        "import torch.nn as nn\n",
        "import matplotlib.pyplot as plt\n",
        "from tqdm import tqdm"
      ]
    },
    {
      "cell_type": "code",
      "source": [
        "_ = torch.manual_seed(42)"
      ],
      "metadata": {
        "id": "csb7rhovnSyx"
      },
      "execution_count": 51,
      "outputs": []
    },
    {
      "cell_type": "code",
      "source": [
        "transform = transforms.Compose([transforms.ToTensor(), transforms.Normalize((0.1307,), (0.3081,))])\n",
        "mnist_trainset = datasets.MNIST(root='./data', train=True, download=True, transform=transform)\n",
        "train_loader = torch.utils.data.DataLoader(mnist_trainset, batch_size = 10, shuffle = True)\n",
        "mnist_testset = datasets.MNIST(root='./data', train = False, download = True, transform = transform)\n",
        "test_loader = torch.utils.data.DataLoader(mnist_testset, batch_size = 10, shuffle=True)\n",
        "\n",
        "device = torch.device(\"cuda:0\" if torch.cuda.is_available() else \"cpu\")\n"
      ],
      "metadata": {
        "id": "1IxohgjJnpCD"
      },
      "execution_count": 52,
      "outputs": []
    },
    {
      "cell_type": "code",
      "source": [
        "class Net(nn.Module):\n",
        "  def __init__(self, hidden_size_1 = 1000, hidden_size_2 = 2000):\n",
        "    super(Net, self).__init__()\n",
        "    self.linear1 = nn.Linear(28*28, hidden_size_1)\n",
        "    self.linear2 = nn.Linear(hidden_size_1, hidden_size_2)\n",
        "    self.linear3 = nn.Linear(hidden_size_2, 10)\n",
        "    self.relu = nn.ReLU()\n",
        "\n",
        "  def forward(self, img):\n",
        "    x = img.view(-1, 28* 28)\n",
        "    x = self.relu(self.linear1(x))\n",
        "    x = self.relu(self.linear2(x))\n",
        "    x = self.linear3(x)\n",
        "    return x\n",
        "\n",
        "net = Net().to(device)"
      ],
      "metadata": {
        "id": "ZDrMOyHhpTeb"
      },
      "execution_count": 66,
      "outputs": []
    },
    {
      "cell_type": "code",
      "source": [
        "def train(train_loader, net, epochs = 5, total_iterations_limit = None):\n",
        "  cross_el = nn.CrossEntropyLoss()\n",
        "  optimizer = torch.optim.Adam(net.parameters(), lr=0.001)\n",
        "  total_iterations = 0\n",
        "  for epoch in range(epochs):\n",
        "    net.train()\n",
        "    loss_sum = 0\n",
        "    num_iterations = 0\n",
        "    data_iterator = tqdm(train_loader, desc = f'Epoch {epoch + 1}')\n",
        "    if total_iterations_limit is not None:\n",
        "      data_iterator.total = total_iterations_limit\n",
        "    for data in data_iterator:\n",
        "      num_iterations += 1\n",
        "      total_iterations += 1\n",
        "      x,y = data\n",
        "      x = x.to(device)\n",
        "      y = y.to(device)\n",
        "      optimizer.zero_grad()\n",
        "      output = net(x.view(-1, 28*28))\n",
        "      loss = cross_el(output, y)\n",
        "      loss_sum += loss.item()\n",
        "      avg_loss = loss_sum / num_iterations\n",
        "      data_iterator.set_postfix(loss = avg_loss)\n",
        "      loss.backward()\n",
        "      optimizer.step()\n",
        "      if total_iterations_limit is not None and total_iterations >= total_iterations_limit:\n",
        "        return\n",
        "\n",
        "train(train_loader, net, epochs = 1)\n"
      ],
      "metadata": {
        "colab": {
          "base_uri": "https://localhost:8080/"
        },
        "id": "bXSZUlJotKHR",
        "outputId": "1580002b-5e48-40b9-e3e6-9d537af44b67"
      },
      "execution_count": 67,
      "outputs": [
        {
          "output_type": "stream",
          "name": "stderr",
          "text": [
            "Epoch 1: 100%|██████████| 592/592 [00:04<00:00, 128.95it/s, loss=0.00414]\n"
          ]
        }
      ]
    },
    {
      "cell_type": "code",
      "source": [
        "original_weights = {}\n",
        "for name, param in net.named_parameters():\n",
        "  original_weights[name]= param.clone().detach()\n",
        "\n",
        "for name, weight in list(original_weights.items())[:10]:  # Show the first 3 weights\n",
        "    print(f\"Layer: {name}, Weight Sample: {weight[:2]}\")"
      ],
      "metadata": {
        "colab": {
          "base_uri": "https://localhost:8080/"
        },
        "id": "it3N_EH1v4gU",
        "outputId": "8508d4a2-a284-4e60-f6a8-b7e2e581f220"
      },
      "execution_count": 68,
      "outputs": [
        {
          "output_type": "stream",
          "name": "stdout",
          "text": [
            "Layer: linear1.weight, Weight Sample: tensor([[-0.0325, -0.0392, -0.0175,  ..., -0.0289, -0.0327, -0.0400],\n",
            "        [ 0.0364,  0.0295, -0.0269,  ...,  0.0309,  0.0356, -0.0030]],\n",
            "       device='cuda:0')\n",
            "Layer: linear1.bias, Weight Sample: tensor([0.0140, 0.0215], device='cuda:0')\n",
            "Layer: linear2.weight, Weight Sample: tensor([[-0.0052,  0.0025, -0.0201,  ...,  0.0357,  0.0350, -0.0062],\n",
            "        [ 0.0308,  0.0264, -0.0237,  ...,  0.0220,  0.0358,  0.0084]],\n",
            "       device='cuda:0')\n",
            "Layer: linear2.bias, Weight Sample: tensor([ 2.7604e-05, -1.0695e-02], device='cuda:0')\n",
            "Layer: linear3.weight, Weight Sample: tensor([[ 0.0005,  0.0050, -0.0277,  ..., -0.0145, -0.0197,  0.0007],\n",
            "        [-0.0217,  0.0138, -0.0176,  ..., -0.0266, -0.0002,  0.0093]],\n",
            "       device='cuda:0')\n",
            "Layer: linear3.bias, Weight Sample: tensor([-0.0034, -0.0042], device='cuda:0')\n"
          ]
        }
      ]
    },
    {
      "cell_type": "code",
      "source": [
        "def test():\n",
        "    correct = 0\n",
        "    total = 0\n",
        "\n",
        "    wrong_counts = [0 for i in range(10)]\n",
        "\n",
        "    with torch.no_grad():\n",
        "        for data in tqdm(test_loader, desc='Testing'):\n",
        "            x, y = data\n",
        "            x = x.to(device)\n",
        "            y = y.to(device)\n",
        "            output = net(x.view(-1, 784))\n",
        "            for idx, i in enumerate(output):\n",
        "                if torch.argmax(i) == y[idx]:\n",
        "                    correct +=1\n",
        "                else:\n",
        "                    wrong_counts[y[idx]] +=1\n",
        "                total +=1\n",
        "    print(f'Accuracy: {round(correct/total, 3)}')\n",
        "    for i in range(len(wrong_counts)):\n",
        "        print(f'wrong counts for the digit {i}: {wrong_counts[i]}')\n",
        "\n",
        "test()"
      ],
      "metadata": {
        "id": "fgaGrhM-xPRb",
        "colab": {
          "base_uri": "https://localhost:8080/"
        },
        "outputId": "5e398d38-2d61-42a5-e441-f97f2d6d702b"
      },
      "execution_count": 69,
      "outputs": [
        {
          "output_type": "stream",
          "name": "stderr",
          "text": [
            "Testing: 100%|██████████| 1000/1000 [00:03<00:00, 305.99it/s]"
          ]
        },
        {
          "output_type": "stream",
          "name": "stdout",
          "text": [
            "Accuracy: 0.096\n",
            "wrong counts for the digit 0: 980\n",
            "wrong counts for the digit 1: 1135\n",
            "wrong counts for the digit 2: 1032\n",
            "wrong counts for the digit 3: 1010\n",
            "wrong counts for the digit 4: 982\n",
            "wrong counts for the digit 5: 892\n",
            "wrong counts for the digit 6: 0\n",
            "wrong counts for the digit 7: 1028\n",
            "wrong counts for the digit 8: 974\n",
            "wrong counts for the digit 9: 1009\n"
          ]
        },
        {
          "output_type": "stream",
          "name": "stderr",
          "text": [
            "\n"
          ]
        }
      ]
    },
    {
      "cell_type": "code",
      "source": [
        "total_parameters_original = 0\n",
        "for index, layer in enumerate([net.linear1, net.linear2, net.linear3]):\n",
        "  total_parameters_original += layer.weight.nelement() + layer.bias.nelement()\n",
        "  print(f'Layer {index + 1}: W: {layer.weight.shape} + B: {layer.bias.shape}')\n",
        "\n",
        "print(f'Total number of parameters: {total_parameters_original}')"
      ],
      "metadata": {
        "colab": {
          "base_uri": "https://localhost:8080/"
        },
        "id": "Ty4daXcb1a1E",
        "outputId": "b33865e3-01fc-4abd-e3fd-a91078e3ade9"
      },
      "execution_count": 70,
      "outputs": [
        {
          "output_type": "stream",
          "name": "stdout",
          "text": [
            "Layer 1: W: torch.Size([1000, 784]) + B: torch.Size([1000])\n",
            "Layer 2: W: torch.Size([2000, 1000]) + B: torch.Size([2000])\n",
            "Layer 3: W: torch.Size([10, 2000]) + B: torch.Size([10])\n",
            "Total number of parameters: 2807010\n"
          ]
        }
      ]
    },
    {
      "cell_type": "code",
      "source": [
        "class LoRAParametrization(nn.Module):\n",
        "    def __init__(self, features_in, features_out, rank=1, alpha=1, device='cpu'):\n",
        "        super().__init__()\n",
        "        # Section 4.1 of the paper:\n",
        "        #   We use a random Gaussian initialization for A and zero for B, so ∆W = BA is zero at the beginning of training\n",
        "        self.lora_A = nn.Parameter(torch.zeros((rank,features_out)).to(device))\n",
        "        self.lora_B = nn.Parameter(torch.zeros((features_in, rank)).to(device))\n",
        "        nn.init.normal_(self.lora_A, mean=0, std=1)\n",
        "\n",
        "        # Section 4.1 of the paper:\n",
        "        #   We then scale ∆Wx by α/r , where α is a constant in r.\n",
        "        #   When optimizing with Adam, tuning α is roughly the same as tuning the learning rate if we scale the initialization appropriately.\n",
        "        #   As a result, we simply set α to the first r we try and do not tune it.\n",
        "        #   This scaling helps to reduce the need to retune hyperparameters when we vary r.\n",
        "        self.scale = alpha / rank\n",
        "        self.enabled = True\n",
        "\n",
        "    def forward(self, original_weights):\n",
        "        if self.enabled:\n",
        "            # Return W + (B*A)*scale\n",
        "            return original_weights + torch.matmul(self.lora_B, self.lora_A).view(original_weights.shape) * self.scale\n",
        "        else:\n",
        "            return original_weights"
      ],
      "metadata": {
        "id": "XBPZFOSS2Mfm"
      },
      "execution_count": 71,
      "outputs": []
    },
    {
      "cell_type": "code",
      "source": [
        "import torch.nn.utils.parametrize as parametrize\n",
        "\n",
        "def linear_layer_parameterization(layer, device, rank=1, lora_alpha=1):\n",
        "    # Only add the parameterization to the weight matrix, ignore the Bias\n",
        "\n",
        "    # From section 4.2 of the paper:\n",
        "    #   We limit our study to only adapting the attention weights for downstream tasks and freeze the MLP modules (so they are not trained in downstream tasks) both for simplicity and parameter-efficiency.\n",
        "    #   [...]\n",
        "    #   We leave the empirical investigation of [...], and biases to a future work.\n",
        "\n",
        "    features_in, features_out = layer.weight.shape\n",
        "    return LoRAParametrization(\n",
        "        features_in, features_out, rank=rank, alpha=lora_alpha, device=device\n",
        "    )\n",
        "\n",
        "parametrize.register_parametrization(\n",
        "    net.linear1, \"weight\", linear_layer_parameterization(net.linear1, device)\n",
        ")\n",
        "parametrize.register_parametrization(\n",
        "    net.linear2, \"weight\", linear_layer_parameterization(net.linear2, device)\n",
        ")\n",
        "parametrize.register_parametrization(\n",
        "    net.linear3, \"weight\", linear_layer_parameterization(net.linear3, device)\n",
        ")\n",
        "\n",
        "\n",
        "def enable_disable_lora(enabled=True):\n",
        "    for layer in [net.linear1, net.linear2, net.linear3]:\n",
        "        layer.parametrizations[\"weight\"][0].enabled = enabled"
      ],
      "metadata": {
        "id": "TCWb3Ab44z1u"
      },
      "execution_count": 72,
      "outputs": []
    },
    {
      "cell_type": "code",
      "source": [
        "total_parameters_lora = 0\n",
        "\n",
        "total_parameters_non_lora = 0\n",
        "for index, layer in enumerate([net.linear1, net.linear2, net.linear3]):\n",
        "  total_parameters_lora += layer.parametrizations[\"weight\"][0].lora_A.nelement() + layer.parametrizations[\"weight\"][0].lora_B.nelement()\n",
        "  total_parameters_non_lora += layer.weight.nelement() + layer.bias.nelement()\n",
        "  print(f'Layer {index + 1}: W: {layer.weight.shape} + A: {layer.parametrizations[\"weight\"][0].lora_A.shape} + B: {layer.parametrizations[\"weight\"][0].lora_B.shape}')\n",
        "\n",
        "assert total_parameters_non_lora == total_parameters_original\n",
        "print(f'Total number of parameters (original): {total_parameters_non_lora:,}')\n",
        "print(f'Total number of parameters (original + LoRA): {total_parameters_lora + total_parameters_non_lora:,}')\n",
        "print(f'Parameters introduced by LoRA: {total_parameters_lora:,}')\n",
        "parameters_incremment = (total_parameters_lora / total_parameters_non_lora) * 100\n",
        "print(f'Parameters incremment: {parameters_incremment:.3f}%')\n"
      ],
      "metadata": {
        "colab": {
          "base_uri": "https://localhost:8080/"
        },
        "id": "bUhMtO0652DN",
        "outputId": "665d8cc0-e438-4020-bf2c-5fc9de36bb10"
      },
      "execution_count": 73,
      "outputs": [
        {
          "output_type": "stream",
          "name": "stdout",
          "text": [
            "Layer 1: W: torch.Size([1000, 784]) + A: torch.Size([1, 784]) + B: torch.Size([1000, 1])\n",
            "Layer 2: W: torch.Size([2000, 1000]) + A: torch.Size([1, 1000]) + B: torch.Size([2000, 1])\n",
            "Layer 3: W: torch.Size([10, 2000]) + A: torch.Size([1, 2000]) + B: torch.Size([10, 1])\n",
            "Total number of parameters (original): 2,807,010\n",
            "Total number of parameters (original + LoRA): 2,813,804\n",
            "Parameters introduced by LoRA: 6,794\n",
            "Parameters incremment: 0.242%\n"
          ]
        }
      ]
    },
    {
      "cell_type": "code",
      "source": [
        "for name, param in net.named_parameters():\n",
        "    if 'lora' not in name:\n",
        "        print(f'Freezing non-LoRA parameter {name}')\n",
        "        param.requires_grad = False\n",
        "\n",
        "# Load the MNIST dataset again, by keeping only the digit 9\n",
        "mnist_trainset = datasets.MNIST(root='./data', train=True, download=True, transform=transform)\n",
        "exclude_indices = mnist_trainset.targets == 6\n",
        "mnist_trainset.data = mnist_trainset.data[exclude_indices]\n",
        "mnist_trainset.targets = mnist_trainset.targets[exclude_indices]\n",
        "# Create a dataloader for the training\n",
        "train_loader = torch.utils.data.DataLoader(mnist_trainset, batch_size=10, shuffle=True)\n",
        "\n",
        "# Train the network with LoRA only on the digit 9 and only for 100 batches (hoping that it would improve the performance on the digit 9)\n",
        "train(train_loader, net, epochs=1, total_iterations_limit=100)\n",
        "\n"
      ],
      "metadata": {
        "colab": {
          "base_uri": "https://localhost:8080/"
        },
        "id": "s3Wbbke_9cAg",
        "outputId": "28eecc6d-28f9-4d00-f7e8-e8bf69c1689e"
      },
      "execution_count": 74,
      "outputs": [
        {
          "output_type": "stream",
          "name": "stdout",
          "text": [
            "Freezing non-LoRA parameter linear1.bias\n",
            "Freezing non-LoRA parameter linear1.parametrizations.weight.original\n",
            "Freezing non-LoRA parameter linear2.bias\n",
            "Freezing non-LoRA parameter linear2.parametrizations.weight.original\n",
            "Freezing non-LoRA parameter linear3.bias\n",
            "Freezing non-LoRA parameter linear3.parametrizations.weight.original\n"
          ]
        },
        {
          "output_type": "stream",
          "name": "stderr",
          "text": [
            "Epoch 1:  99%|█████████▉| 99/100 [00:00<00:00, 132.12it/s, loss=0]\n"
          ]
        }
      ]
    },
    {
      "cell_type": "code",
      "source": [
        "assert torch.all(net.linear1.parametrizations.weight.original == original_weights['linear1.weight'])\n",
        "assert torch.all(net.linear2.parametrizations.weight.original == original_weights['linear2.weight'])\n",
        "assert torch.all(net.linear3.parametrizations.weight.original == original_weights['linear3.weight'])\n",
        "\n",
        "enable_disable_lora(enabled=True)\n",
        "\n",
        "assert torch.equal(net.linear1.weight, net.linear1.parametrizations.weight.original + (net.linear1.parametrizations.weight[0].lora_B @ net.linear1.parametrizations.weight[0].lora_A) * net.linear1.parametrizations.weight[0].scale)\n",
        "\n",
        "enable_disable_lora(enabled=False)\n",
        "assert torch.equal(net.linear1.weight, original_weights['linear1.weight'])\n",
        "assert torch.equal(net.linear2.weight, original_weights['linear2.weight'])\n",
        "assert torch.equal(net.linear3.weight, original_weights['linear3.weight'])\n"
      ],
      "metadata": {
        "id": "LW2ov0gb_IB5"
      },
      "execution_count": 75,
      "outputs": []
    },
    {
      "cell_type": "code",
      "source": [
        "enable_disable_lora(enabled=True)\n",
        "test()"
      ],
      "metadata": {
        "colab": {
          "base_uri": "https://localhost:8080/"
        },
        "id": "aBqu4D8xAVOT",
        "outputId": "4ec3022f-46fd-4d2e-ada6-bfd72f8ec9dd"
      },
      "execution_count": 76,
      "outputs": [
        {
          "output_type": "stream",
          "name": "stderr",
          "text": [
            "Testing: 100%|██████████| 1000/1000 [00:04<00:00, 247.75it/s]"
          ]
        },
        {
          "output_type": "stream",
          "name": "stdout",
          "text": [
            "Accuracy: 0.096\n",
            "wrong counts for the digit 0: 980\n",
            "wrong counts for the digit 1: 1135\n",
            "wrong counts for the digit 2: 1032\n",
            "wrong counts for the digit 3: 1010\n",
            "wrong counts for the digit 4: 982\n",
            "wrong counts for the digit 5: 892\n",
            "wrong counts for the digit 6: 0\n",
            "wrong counts for the digit 7: 1028\n",
            "wrong counts for the digit 8: 974\n",
            "wrong counts for the digit 9: 1009\n"
          ]
        },
        {
          "output_type": "stream",
          "name": "stderr",
          "text": [
            "\n"
          ]
        }
      ]
    },
    {
      "cell_type": "code",
      "source": [
        "enable_disable_lora(enabled=False)\n",
        "test()"
      ],
      "metadata": {
        "colab": {
          "base_uri": "https://localhost:8080/"
        },
        "id": "-MXqtQ07AqfX",
        "outputId": "b2fd7332-f736-45ca-f520-cc66fc642a17"
      },
      "execution_count": 77,
      "outputs": [
        {
          "output_type": "stream",
          "name": "stderr",
          "text": [
            "Testing: 100%|██████████| 1000/1000 [00:03<00:00, 254.85it/s]"
          ]
        },
        {
          "output_type": "stream",
          "name": "stdout",
          "text": [
            "Accuracy: 0.096\n",
            "wrong counts for the digit 0: 980\n",
            "wrong counts for the digit 1: 1135\n",
            "wrong counts for the digit 2: 1032\n",
            "wrong counts for the digit 3: 1010\n",
            "wrong counts for the digit 4: 982\n",
            "wrong counts for the digit 5: 892\n",
            "wrong counts for the digit 6: 0\n",
            "wrong counts for the digit 7: 1028\n",
            "wrong counts for the digit 8: 974\n",
            "wrong counts for the digit 9: 1009\n"
          ]
        },
        {
          "output_type": "stream",
          "name": "stderr",
          "text": [
            "\n"
          ]
        }
      ]
    }
  ]
}